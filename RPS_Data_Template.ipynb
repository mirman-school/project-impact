{
  "nbformat": 4,
  "nbformat_minor": 0,
  "metadata": {
    "colab": {
      "name": "RPS Data Template.ipynb",
      "version": "0.3.2",
      "provenance": [],
      "private_outputs": true,
      "include_colab_link": true
    },
    "kernelspec": {
      "name": "python3",
      "display_name": "Python 3"
    }
  },
  "cells": [
    {
      "cell_type": "markdown",
      "metadata": {
        "id": "view-in-github",
        "colab_type": "text"
      },
      "source": [
        "[View in Colaboratory](https://colab.research.google.com/github/mirman-school/project-impact/blob/master/RPS_Data_Template.ipynb)"
      ]
    },
    {
      "metadata": {
        "id": "F5IE0PgLdEzb",
        "colab_type": "text"
      },
      "cell_type": "markdown",
      "source": [
        "# RPS Data\n",
        "\n",
        "Now that we've generated our Rock, Paper, Scissors data, it's time to analyze the results. \n",
        "\n",
        "This work is best done in groups of two. **Partner up!**"
      ]
    },
    {
      "metadata": {
        "id": "LZUZ5WsFdtyt",
        "colab_type": "text"
      },
      "cell_type": "markdown",
      "source": [
        "## Setting up the environment\n",
        "\n",
        "These next cells handle the business of setting up our notebook to pull data from Google Sheets, and then import the data into a _pandas DataFrame_. Remember those?\n",
        "\n",
        "For the next six cells, just click **Run** on each cell to get the latest data into our DataFrame. You will be asked at one point to click a link and enter a code. Do so to continue the process."
      ]
    },
    {
      "metadata": {
        "id": "HPLI8H4_X-nJ",
        "colab_type": "code",
        "colab": {}
      },
      "cell_type": "code",
      "source": [
        "# Install the library to get Google Sheets into Python\n",
        "!pip install --upgrade -q gspread"
      ],
      "execution_count": 0,
      "outputs": []
    },
    {
      "metadata": {
        "id": "TgOWc7zQZypz",
        "colab_type": "code",
        "colab": {}
      },
      "cell_type": "code",
      "source": [
        "# Authorize this notebook to look at our stuff\n",
        "from google.colab import auth\n",
        "auth.authenticate_user()\n",
        "\n",
        "import gspread\n",
        "from oauth2client.client import GoogleCredentials\n",
        "\n",
        "gc = gspread.authorize(GoogleCredentials.get_application_default())"
      ],
      "execution_count": 0,
      "outputs": []
    },
    {
      "metadata": {
        "id": "mjxZl2aJZ68S",
        "colab_type": "code",
        "colab": {},
        "cellView": "code"
      },
      "cell_type": "code",
      "source": [
        "# Access the spreadsheet holding our results\n",
        "sheet = gc.open_by_url(\"https://docs.google.com/spreadsheets/d/1mPkvMVKIWGtN8XTJ4yhWX6ElX3aRB8LXrXALLQOkzIE/edit#gid=905288117\")"
      ],
      "execution_count": 0,
      "outputs": []
    },
    {
      "metadata": {
        "id": "y7u_68ewaliV",
        "colab_type": "code",
        "colab": {}
      },
      "cell_type": "code",
      "source": [
        "# Get rows from sheet\n",
        "rows = sheet.sheet1.get_all_values()"
      ],
      "execution_count": 0,
      "outputs": []
    },
    {
      "metadata": {
        "id": "YaqdWmR2Utme",
        "colab_type": "code",
        "colab": {}
      },
      "cell_type": "code",
      "source": [
        "# Import trusty Pandas and Numpy\n",
        "import pandas as pd\n",
        "import numpy as np"
      ],
      "execution_count": 0,
      "outputs": []
    },
    {
      "metadata": {
        "id": "poZoJ2IkcEgt",
        "colab_type": "code",
        "colab": {}
      },
      "cell_type": "code",
      "source": [
        "df = pd.DataFrame.from_records(rows[1:], columns=rows[0])"
      ],
      "execution_count": 0,
      "outputs": []
    },
    {
      "metadata": {
        "id": "PI_JFBj9eQiU",
        "colab_type": "text"
      },
      "cell_type": "markdown",
      "source": [
        "## Working with DataFrames\n",
        "\n",
        "Some of this might be review, but we're going to go through it anyway. There's a lot of ways to interact with DataFrames. Let's start with getting an overview of the data with `df.info()` "
      ]
    },
    {
      "metadata": {
        "id": "85OM6urRfxMn",
        "colab_type": "code",
        "colab": {}
      },
      "cell_type": "code",
      "source": [
        "# Call df.info() on the line below\n"
      ],
      "execution_count": 0,
      "outputs": []
    },
    {
      "metadata": {
        "id": "5i9CBQttf5KZ",
        "colab_type": "text"
      },
      "cell_type": "markdown",
      "source": [
        "Dang, that's a lot of weird information. Sometimes pandas output can be a little hard to parse. Let's break it down.\n",
        "\n",
        "### `RangeIndex`\n",
        "\n",
        "First, it's important to remember that DataFrames are just tables, but represented in code, so they have special abilities. Like a table, it has rows and columns. Generally, columns are just numbered, starting at 0. But sometimes are rows are ordered in a special way, like by date. The way rows are ordered is called an **index**. `RangeIndex` just means we have plain old rows with row numbers starting at 0.\n",
        "\n",
        "### `Data columns`\n",
        "\n",
        "You should see 6 columns, each holding some number of `non-null object`s. In our case, the number of entries (rows) should match the number of items in every column, but if there's data missing from a cell, the numbers won't match.\n",
        "\n",
        "That's enough from `df.info()`. Let's take a quick preview of the data with `df.head()`"
      ]
    },
    {
      "metadata": {
        "id": "u63pVoxFf4R2",
        "colab_type": "code",
        "colab": {}
      },
      "cell_type": "code",
      "source": [
        "# Call df.head() on the next line\n"
      ],
      "execution_count": 0,
      "outputs": []
    },
    {
      "metadata": {
        "id": "njI-tm2r1qNO",
        "colab_type": "text"
      },
      "cell_type": "markdown",
      "source": [
        "So obviously `df.head()` gives us the first 5 lines of data. Wanna see the last 5? Try `df.tail()`"
      ]
    },
    {
      "metadata": {
        "id": "oeeJmwiR1ywo",
        "colab_type": "code",
        "colab": {}
      },
      "cell_type": "code",
      "source": [
        "# Call df.tail() to see the last 5 lines of the DataFrame\n"
      ],
      "execution_count": 0,
      "outputs": []
    },
    {
      "metadata": {
        "id": "KWdQ949B14gX",
        "colab_type": "text"
      },
      "cell_type": "markdown",
      "source": [
        "Sometimes all we _really_ need to know is the number of rows/columns in the DataFrame. For that, we look at `df.shape`. Notice that there are no parentheses after this one. `df.shape` is a **property** of the DataFrame. `head()` and `info()` are **methods**. We'll talk more about the difference soon."
      ]
    },
    {
      "metadata": {
        "id": "ELZKFmvMC1N8",
        "colab_type": "code",
        "colab": {}
      },
      "cell_type": "code",
      "source": [
        "# Retrieve df.shape\n"
      ],
      "execution_count": 0,
      "outputs": []
    },
    {
      "metadata": {
        "id": "CUn4mez4DMfF",
        "colab_type": "text"
      },
      "cell_type": "markdown",
      "source": [
        "`df.shape` is a **tuple**, or a fixed set of values. As you might have guessed, this tuple represents the number of rows and the number of columns in the DataFrame."
      ]
    },
    {
      "metadata": {
        "id": "NOuA31F1IvFW",
        "colab_type": "text"
      },
      "cell_type": "markdown",
      "source": [
        "### Accessing Columns\n",
        "\n",
        "What if we just want one of the columns, for example `Player 1 Choice`? To access it, we would put the name of the column in quotes, inside square brackets attached to the DataFrame, like so:\n",
        "\n",
        "```python\n",
        "df[\"Player 1 Choice\"]\n",
        "```\n",
        "\n",
        "Try it yourself!"
      ]
    },
    {
      "metadata": {
        "id": "xxlngNw_JJLk",
        "colab_type": "code",
        "colab": {}
      },
      "cell_type": "code",
      "source": [
        "# Access the \"Player 1 Choice\" column\n"
      ],
      "execution_count": 0,
      "outputs": []
    },
    {
      "metadata": {
        "id": "lcjcRJUaE0SK",
        "colab_type": "text"
      },
      "cell_type": "markdown",
      "source": [
        "## Exploratory Data Analysis (EDA)\n",
        "\n",
        "Many of the operations that we will perform on our data can be labeled as **EDA**, or Exploratory Data Analysis. Simply put, we do basic measurements/graphs of the dataset to get a sense of the stories it's telling.\n",
        "\n",
        "**Discuss with your partner:** What are some basic measurements we could do with our data?"
      ]
    },
    {
      "metadata": {
        "id": "mjnt7gfiGXkD",
        "colab_type": "text"
      },
      "cell_type": "markdown",
      "source": [
        "### Counts\n",
        "\n",
        "Maybe one of you said \"We could count how many rocks there were.\" That's true, we could! To do that, we need to **filter** our DataFrame so that only rows with rocks show are left.\n",
        "\n",
        "Let's start by filtering the `Player 1 Choice` column for only rocks. To do that, we need to apply a **boolean** statement to the DataFrame.\n"
      ]
    },
    {
      "metadata": {
        "id": "be46-a0ZIC2d",
        "colab_type": "text"
      },
      "cell_type": "markdown",
      "source": [
        "#### Boolean Statements\n",
        "\n",
        "Booleans, named after [George Boole](https://en.wikipedia.org/wiki/George_Boole), are statements that are either `True` or `False`.\n",
        "\n",
        "Try some of these boolean statements in the code cell below\n",
        "\n",
        "```python\n",
        "5 > 0\n",
        "8 == 8\n",
        "\"Hello\" != \"hello\"\n",
        "True == True\n",
        "```"
      ]
    },
    {
      "metadata": {
        "id": "X3tE72jNHrMO",
        "colab_type": "code",
        "colab": {}
      },
      "cell_type": "code",
      "source": [
        "# Try one boolean at a time, or multiple by wrapping each one in a print() call\n"
      ],
      "execution_count": 0,
      "outputs": []
    },
    {
      "metadata": {
        "id": "z1dN0TALIMma",
        "colab_type": "text"
      },
      "cell_type": "markdown",
      "source": [
        "#### Filtering using `[]`\n",
        "\n",
        "If we can come up with a boolean statement that uses one of our DataFrame's columns, we can put that statement inside of the square braces to make our filter. Keep in mind that, because some of our column names have spaces, we actually have to use square braces to access the columns.\n",
        "\n",
        "**With your partner, try to come up with a boolean statement that would only catch Player 1 choices that equal rock**.\n",
        "\n",
        "_Hint: `==` can be used to check if a value matches across an entire column_.\n",
        "\n",
        "**Once you have it, enter your filter below and get the results**"
      ]
    },
    {
      "metadata": {
        "id": "Fqz_S0PRJ4Jz",
        "colab_type": "code",
        "colab": {}
      },
      "cell_type": "code",
      "source": [
        "p1_rock = None # Change None to your filter!\n",
        "p1_rock # Display the result"
      ],
      "execution_count": 0,
      "outputs": []
    },
    {
      "metadata": {
        "id": "RlENClznWUpP",
        "colab_type": "text"
      },
      "cell_type": "markdown",
      "source": [
        "#### Using `shape` for counts\n",
        "\n",
        "Because `shape` returns the rows and columns of a DataFrame, it can tell us the count of values after we've applied a filter. Now, `shape` is a tuple, which works kind of like a list. We only want the first part of the tuple, so we use the zero index to get it. Watch:"
      ]
    },
    {
      "metadata": {
        "id": "6Wco8pVPWsGh",
        "colab_type": "code",
        "colab": {}
      },
      "cell_type": "code",
      "source": [
        "shape_example = (10,20) # Notice the parens instead of [] for a tuple\n",
        "shape_example[0]"
      ],
      "execution_count": 0,
      "outputs": []
    },
    {
      "metadata": {
        "id": "btZsVSB6W4dO",
        "colab_type": "text"
      },
      "cell_type": "markdown",
      "source": [
        "With that knowledge, use `shape` to extract the count of Player 1 rock choices from `p1_rock`."
      ]
    },
    {
      "metadata": {
        "id": "Cf02cZBxW1bf",
        "colab_type": "code",
        "colab": {}
      },
      "cell_type": "code",
      "source": [
        "# Use shape and tuple indexing to get just the row count from p1_rock\n"
      ],
      "execution_count": 0,
      "outputs": []
    },
    {
      "metadata": {
        "id": "5HseHLxdK0-a",
        "colab_type": "text"
      },
      "cell_type": "markdown",
      "source": [
        "### Grouping by Player\n",
        "\n",
        "Our data will become more useful if we group the games by player. Put another way, we want a set of DataFrame, each DataFrame only containing games that involved a specific player. To do that, we're first going to talk about dictionaries"
      ]
    },
    {
      "metadata": {
        "id": "FST4Ow5NLMiL",
        "colab_type": "text"
      },
      "cell_type": "markdown",
      "source": [
        "#### Dictionaries\n",
        "\n",
        "Lists you know. They're just series of values. Dictionaries allow us to store information by _key_, so it's easy to look it up later. Here's an example dictionary."
      ]
    },
    {
      "metadata": {
        "id": "DAYwXUnmLW8A",
        "colab_type": "code",
        "colab": {}
      },
      "cell_type": "code",
      "source": [
        "users = { # Curly brace instead of [\n",
        "    \"steve\": \"letmein\", # key : value\n",
        "    \"alice\": \"password1\",\n",
        "    \"azrael\": \"123456\"\n",
        "}\n",
        "\n",
        "# Adding a user to the dict\n",
        "users[\"linda\"] = \"passwordpasswordpassword\" # We add to dictionaries by naming the key and assigning with = \n",
        "\n",
        "print(users[\"steve\"]) # Change this to see what happens when you use different keys"
      ],
      "execution_count": 0,
      "outputs": []
    },
    {
      "metadata": {
        "id": "A1eeQw6FLx2L",
        "colab_type": "text"
      },
      "cell_type": "markdown",
      "source": [
        "These are terrible passwords for these users, but as you can see, it's easy to look up a password for a given username. So we're going to build a dictionary where the keys are player names, and the values are DataFrames holding ONLY games that player played in."
      ]
    },
    {
      "metadata": {
        "id": "9bOckRIOMbeu",
        "colab_type": "text"
      },
      "cell_type": "markdown",
      "source": [
        "#### Multiple Possibilities\n",
        "\n",
        "How do we know that a player played in a game? If the player is listed as `\"Player 1\"`, they played. But ALSO if they're listed as `\"Player 2\"`! So we need to say something like:\n",
        "\n",
        "_\"Get all rows where Player 1 equals the player's name, OR Player 2 equals the player's name.\"_\n",
        "\n",
        "Inside our curly braces, we can can combine boolean statements with `&` for AND, and `|` for OR. `&` will require both sides to be true to catch a row, and `|` will only require one side to be true to catch a row. Each side of an `&` or `|` needs to be in parens.\n",
        "\n",
        "By way of example, here's a filter on our DataFrame that catches when the winning choice was \"Rock\" or \"Scissors\":"
      ]
    },
    {
      "metadata": {
        "id": "UC7EAaeCOcER",
        "colab_type": "code",
        "colab": {}
      },
      "cell_type": "code",
      "source": [
        "rock_or_scissors = df[(df[\"Winner Choice\"] == \"Rock\") | (df[\"Winner Choice\"] == \"Scissors\")] # Notice the | operator, and how each side is in parentheses\n",
        "print(rock_or_scissors[\"Winner Choice\"]) # prove we got the right thing by printing the winner choice column"
      ],
      "execution_count": 0,
      "outputs": []
    },
    {
      "metadata": {
        "id": "-PMJdaqDPC1_",
        "colab_type": "text"
      },
      "cell_type": "markdown",
      "source": [
        "#### Player Names\n",
        "\n",
        "It all starts with a list of player names. Let's go ahead and build that list. I'll get it started."
      ]
    },
    {
      "metadata": {
        "id": "33_Vv8lHPJlD",
        "colab_type": "code",
        "colab": {}
      },
      "cell_type": "code",
      "source": [
        "# Finish this list so all the players listed in the data are included!\n",
        "# Make sure you use the names as they appear in the data!\n",
        "\n",
        "players = [\n",
        "    \"Maceo\",\n",
        "    \"Nathaniel\",\n",
        "    \"Asha\"\n",
        "]"
      ],
      "execution_count": 0,
      "outputs": []
    },
    {
      "metadata": {
        "id": "_QSujtczwgj6",
        "colab_type": "text"
      },
      "cell_type": "markdown",
      "source": [
        "With a list of players complete, we can loop through them to create both keys and values in our dictionary that will hold DataFrames with only that player's games.\n",
        "\n",
        "Here we go! Complete this loop to make the `games_by_player` dictionary."
      ]
    },
    {
      "metadata": {
        "id": "VEJxoAd_z5SU",
        "colab_type": "code",
        "colab": {}
      },
      "cell_type": "code",
      "source": [
        "# Create the empty dictionary we intend to fill\n",
        "games_by_player = {}\n",
        "\n",
        "# Loop through the player names we build above\n",
        "for p in players:\n",
        "  # Create a new key/value pair based on the player's \n",
        "  games_by_player[p] = None # Change this to use a two-part filter on our DataFrame with the | operator!\n",
        "  \n",
        " \n",
        "for g in games_by_player.values():\n",
        "  print(g.shape) # This won't work until you do the part above"
      ],
      "execution_count": 0,
      "outputs": []
    },
    {
      "metadata": {
        "id": "vyngh6_x263Z",
        "colab_type": "text"
      },
      "cell_type": "markdown",
      "source": [
        "#### Win Counts\n",
        "\n",
        "With our `players` list, it should easy to get a second dictionary of wins for each player. In fact, this one will be easier than the `games_by_player` dictionary, because we only have to check one column! Let's repeat the process we used above to make a dictionary called `player_wins` with filtered DataFrames with only wins for each players."
      ]
    },
    {
      "metadata": {
        "id": "zp8o5psi4LMF",
        "colab_type": "code",
        "colab": {}
      },
      "cell_type": "code",
      "source": [
        "# Create the empty dictionary, yet again\n",
        "player_wins = {}\n",
        "\n",
        "# Another loop\n",
        "for p in players:\n",
        "  player_wins[p] = None # Change this to filter df where the \"Winner\" column equals the player\n",
        "  \n",
        "\n",
        "for w in player_wins:\n",
        "  print(w, player_wins[w].shape[0]) # This will print wins with the player name\n"
      ],
      "execution_count": 0,
      "outputs": []
    },
    {
      "metadata": {
        "id": "8xasv8uY5UQl",
        "colab_type": "text"
      },
      "cell_type": "markdown",
      "source": [
        "#### Win Percentage\n",
        "\n",
        "The formula for win percentage is:\n",
        "\n",
        "$$\\frac{w}{g} \\times 100$$\n",
        "\n",
        "where *w* is the number of wins, and *g* is the total number of games. Luckily, we have an easy way to get each from our two existing dictionaries. Time to make a third dictionary, `win_percentages`, that will not hold DataFrames as its values, but the resulting calculation based on values pulled from `games_by_player` and `player_wins`.\n",
        "\n",
        "**Hint**: `shape` is a kind of list that holds 2 values: rows and columns. `shape[0]` is always going to be the number of rows in a DataFrame."
      ]
    },
    {
      "metadata": {
        "id": "z4fwF_V39dQW",
        "colab_type": "code",
        "colab": {}
      },
      "cell_type": "code",
      "source": [
        "win_percentages = {}\n",
        "\n",
        "for p in players:\n",
        "  total_games = None # Get the number of rows from games_by_player\n",
        "  wins = None # Get the number of rows from player_wins\n",
        "  percentage = None # Do the math!\n",
        "  win_percentages[p] = percentage # Attach the calculated percentage\n",
        "\n",
        "for wp in win_percentages:\n",
        "  print(wp, win_percentages[wp]) # Print out the percentages"
      ],
      "execution_count": 0,
      "outputs": []
    },
    {
      "metadata": {
        "id": "V-knFcJHSmcd",
        "colab_type": "text"
      },
      "cell_type": "markdown",
      "source": [
        "### Mean (Average)\n",
        "\n",
        "The mean, or average, value of a set of values is formally defined as:\n",
        "\n",
        "$$\\bar{x} = \\frac{1}{n}\\left (\\sum_{i=1}^n{x_i}\\right ) = \\frac{x_1+x_2+\\cdots +x_n}{n}$$\n",
        "\n",
        "If you haven't seen that notation before, just breathe. It's okay! The *x* with the bar over it is the symbol for mean. The giant E-looking thing is a sigma, which in math notation indicates a sum. The number on the bottom of the sigma indicates where the count of values starts, and the value on top indicates where it ends. This is all the mathematical \"code\" for:\n",
        "\n",
        "_The mean is the sum of all the values in the sample divided by the number of samples_. \n",
        "\n",
        "But I wanted you to see the math notation and begin getting used to it. You'll see sigma a lot in this course."
      ]
    },
    {
      "metadata": {
        "id": "ZJsevqUqT9mq",
        "colab_type": "text"
      },
      "cell_type": "markdown",
      "source": [
        "#### Nicer Mean\n",
        "\n",
        "Now, I bet you could figure out a loop that would allow us to go through each value in `win_percentages` and calculate the mean. Take a moment to think about how you would do that.\n",
        "\n",
        "Go ahead, I'll wait.\n",
        "\n",
        "...\n",
        "\n",
        "...\n",
        "\n",
        "...\n",
        "\n",
        "Ready? Cool. It turns out that for operations such as mean, another handy Python library called `numpy` can make life a lot easier. Observe:"
      ]
    },
    {
      "metadata": {
        "id": "BNlLQZRLUVBH",
        "colab_type": "code",
        "colab": {}
      },
      "cell_type": "code",
      "source": [
        "# We already imported numpy as np above\n",
        "scores = [99, 100, 75, 60, 25]\n",
        "\n",
        "np.mean(scores)"
      ],
      "execution_count": 0,
      "outputs": []
    },
    {
      "metadata": {
        "id": "EATn-Qd_U5YG",
        "colab_type": "text"
      },
      "cell_type": "markdown",
      "source": [
        "Using what you already know about how to extract values from dictionaries, produce the average win percentage of the class using `np.mean()`."
      ]
    },
    {
      "metadata": {
        "id": "J78bJEaqVDuL",
        "colab_type": "code",
        "colab": {}
      },
      "cell_type": "code",
      "source": [
        "# Use np.mean() to get the average win percentage out of win_percentages\n"
      ],
      "execution_count": 0,
      "outputs": []
    },
    {
      "metadata": {
        "id": "baKizL1xAAI1",
        "colab_type": "text"
      },
      "cell_type": "markdown",
      "source": [
        "### Graphing\n",
        "\n",
        "FINALLY, we're in a position to graph something! Let's try to graph our win percentages. We need 2 axes.\n",
        "\n",
        "* x-axis: Player names\n",
        "* y-axis: Win percentages\n",
        "\n",
        "#### Graphing prerequisites\n",
        "\n",
        "We need to do a few things before we're ready to graph. The first is import the `matplotlib.pyplot` library, which we'll call `plt`."
      ]
    },
    {
      "metadata": {
        "id": "0D3EVMINBfdZ",
        "colab_type": "code",
        "colab": {}
      },
      "cell_type": "code",
      "source": [
        "import matplotlib.pyplot as plt"
      ],
      "execution_count": 0,
      "outputs": []
    },
    {
      "metadata": {
        "id": "zn8TKXOBBjVm",
        "colab_type": "text"
      },
      "cell_type": "markdown",
      "source": [
        "Every time we create a graph, we need to call `plt.clf()` to clear any previous graphs from re-rendering. Then we call `plt.figure()` to create a new figure. We can optionally pass a `figsize` argument to `plt.figure()` to make it bigger."
      ]
    },
    {
      "metadata": {
        "id": "qxLFAA8sEESD",
        "colab_type": "code",
        "colab": {}
      },
      "cell_type": "code",
      "source": [
        "plt.clf()\n",
        "\n",
        "plt.figure(figsize=[15,10]) # figsize is a list of width, height"
      ],
      "execution_count": 0,
      "outputs": []
    },
    {
      "metadata": {
        "id": "RINFh6VdEQzA",
        "colab_type": "text"
      },
      "cell_type": "markdown",
      "source": [
        "Then we build our graph. In this case, it's a bar graph, so we use `plt.bar()`, passing the x and y axes lists.\n",
        "\n",
        "After that, we use `plt.title()`, `plt.xlabel()`, and `plt.ylabel()` to label the graph.\n",
        "\n",
        "Finally, we use `plt.show()` to show the graph."
      ]
    },
    {
      "metadata": {
        "id": "x8ExhzSkEjim",
        "colab_type": "code",
        "colab": {}
      },
      "cell_type": "code",
      "source": [
        "plt.bar([],[]) # Replace the empty lists with the x/y axes we need. HINT: how did we print the games_by_player values?\n",
        "\n",
        "# Fill in your labels!\n",
        "plt.title(\"\")\n",
        "plt.xlabel(\"\")\n",
        "plt.ylabel(\"\")\n",
        "\n",
        "# Make it happen!\n",
        "plt.show()"
      ],
      "execution_count": 0,
      "outputs": []
    },
    {
      "metadata": {
        "id": "7ut_9c1ALGFN",
        "colab_type": "text"
      },
      "cell_type": "markdown",
      "source": [
        "## Your Turn\n",
        "\n",
        "It's time to come up with your own EDA questions. List at least one here, then use your Python/Pandas skills to answer your questions!\n",
        "\n",
        "### My questions:\n",
        "\n",
        "1. ???"
      ]
    }
  ]
}