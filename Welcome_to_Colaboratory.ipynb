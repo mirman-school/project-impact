{
  "nbformat": 4,
  "nbformat_minor": 0,
  "metadata": {
    "colab": {
      "name": "Welcome to Colaboratory.ipynb",
      "version": "0.3.2",
      "provenance": [],
      "collapsed_sections": [],
      "include_colab_link": true
    },
    "kernelspec": {
      "name": "python3",
      "display_name": "Python 3"
    }
  },
  "cells": [
    {
      "cell_type": "markdown",
      "metadata": {
        "id": "view-in-github",
        "colab_type": "text"
      },
      "source": [
        "[View in Colaboratory](https://colab.research.google.com/github/mirman-school/project-impact/blob/master/Welcome_to_Colaboratory.ipynb)"
      ]
    },
    {
      "metadata": {
        "id": "WqorPFOlPt0V",
        "colab_type": "text"
      },
      "cell_type": "markdown",
      "source": [
        "# Welcome to Colaboratory!\n",
        "\n",
        "In Project: Impact this year, we'll be using Google Colaboratory for much of our work. Colaboratory is built on [Project Jupyter](http://jupyter.org/), which we used last year. Think of Colab as a Google Doc that can run Python code. They can be shared, collaboratively edited, and commented on.\n",
        "\n",
        "Even though we used Jupyter last year, let's take a moment to revisit some concepts."
      ]
    },
    {
      "metadata": {
        "id": "AyC-nU18Qlfu",
        "colab_type": "text"
      },
      "cell_type": "markdown",
      "source": [
        "## Cells\n",
        "\n",
        "In Colab, \"Notebooks\" are separated into sections called **cells**. Cells come in two flavors: text and code. Text cells, like this one, will just look like a Google Doc. If you double-click on them, you can edit them. "
      ]
    },
    {
      "metadata": {
        "id": "tA8Eqg25RYSm",
        "colab_type": "text"
      },
      "cell_type": "markdown",
      "source": [
        "### Text Cells\n",
        "\n",
        "If you double-click on this cell, you might notice that it is written with some special symbols that disappear when you click on a different cell. Those symbols are a language called [Markdown](https://commonmark.org). It's not hard to learn if you want to write the syntax yourself. You can also use the toolbar above the text box to format your text.\n",
        "\n",
        "Also notice the different levels of headings. By using different heading levels, the Notebook can be organized into sections and subsections. Next to every heading that has subsections is a triangle icon to **expand** or **collapse** the section.\n",
        "\n",
        "Try to expand/collapse this section before moving on!"
      ]
    },
    {
      "metadata": {
        "id": "SIFUuxiARvhq",
        "colab_type": "text"
      },
      "cell_type": "markdown",
      "source": [
        "### Code Cells\n",
        "\n",
        "Of course, we're here to do some data science, which means writing code. You can write Python code in code cells. The result of the code you write will be shown below the cell after you click the **Run** icon on the left side of the cell.\n",
        "\n",
        "Try it now. In the code cell below, use the `print()` function to print out your name. Don't forget to click **Run**!"
      ]
    },
    {
      "metadata": {
        "id": "CKryGmAtPpSs",
        "colab_type": "code",
        "colab": {}
      },
      "cell_type": "code",
      "source": [
        "# Use print() on the next line to print out your name. \n",
        "print ()\n",
        "\n",
        "# Do you remember what Python needs to recognize text?"
      ],
      "execution_count": 0,
      "outputs": []
    },
    {
      "metadata": {
        "id": "8Pv1UYdsSzcu",
        "colab_type": "text"
      },
      "cell_type": "markdown",
      "source": [
        "## Python Basics\n",
        "\n",
        "Let's review some basic operations in Python. Since we're going to be working with data, We'll focus on doing math with Python."
      ]
    },
    {
      "metadata": {
        "id": "np48GZanU4kV",
        "colab_type": "text"
      },
      "cell_type": "markdown",
      "source": [
        "### Simple operations\n",
        "\n",
        "For the fundamental operations (addition, subtraction, multiplication, division), Python works kind of like a calculator.\n",
        "\n",
        "```python\n",
        "3 + 3\n",
        ">>> 6\n",
        "\n",
        "3 * 5\n",
        ">>> 15\n",
        "\n",
        "10 - 7\n",
        ">>> 3\n",
        "\n",
        "100 / 4\n",
        ">>> 25\n",
        "```\n",
        "\n",
        "Try some basic math below!"
      ]
    },
    {
      "metadata": {
        "id": "oDFLc7H9VjNM",
        "colab_type": "code",
        "colab": {}
      },
      "cell_type": "code",
      "source": [
        "# Come up with your own math operations\n",
        "# Click Run to compute them!\n",
        "# Tip: If you do more than one operation,\n",
        "# be sure to wrap each one in a print(),\n",
        "# or only the last operation will display.\n",
        "\n",
        "print (3+3)\n",
        "print (18*12)\n",
        "print (86/4)"
      ],
      "execution_count": 0,
      "outputs": []
    },
    {
      "metadata": {
        "id": "QBooKZOrWewg",
        "colab_type": "text"
      },
      "cell_type": "markdown",
      "source": [
        "### Types\n",
        "\n",
        "Computers have to know what kind of information they're being given. That's how they know exactly how to perform the requested operations. We refer to kinds of information as **data types**, and Python has several. The most import ones, however, are **int**, **string**, **float**, **bool**, and **list**.\n",
        "\n",
        "Type | Example\n",
        "--|--\n",
        "`int` | `5`\n",
        "`string` | `\"5\"`\n",
        "`float` | `5.3`\n",
        "`bool` | `True`\n",
        "`list` | `[1,2,3,4]`\n",
        "\n",
        "To check what data type a value is, you can use the `type()` function.\n",
        "\n",
        "```python\n",
        "type(5)\n",
        ">>> int\n",
        "\n",
        "type(\"5\")\n",
        ">>> str\n",
        "```"
      ]
    },
    {
      "metadata": {
        "id": "mlrhxS0Rf8uO",
        "colab_type": "code",
        "colab": {}
      },
      "cell_type": "code",
      "source": [
        "# Use type() to check the types of values you create!\n",
        "print(type (22))\n",
        "\n",
        "print(type(\"RGB\"))"
      ],
      "execution_count": 0,
      "outputs": []
    },
    {
      "metadata": {
        "id": "DC6YDBWyWMZU",
        "colab_type": "text"
      },
      "cell_type": "markdown",
      "source": [
        "### Variables\n",
        "\n",
        "In Python, like all programming languages, we like to give names to values we use again and again. We call these names **variables**. They're similar to variables in math, except that they can be _any_ data type, not just numbers.\n",
        "\n",
        "```python\n",
        "x = 5\n",
        "print(3 + x)\n",
        ">>>  8\n",
        "\n",
        "h = \"Hello\"\n",
        "print(h + \"world\")\n",
        "```\n",
        "\n",
        "I'm gonna let you find out what happens when you add strings. Try using variables in operations below!"
      ]
    },
    {
      "metadata": {
        "id": "bby4bnDtWL4j",
        "colab_type": "code",
        "colab": {}
      },
      "cell_type": "code",
      "source": [
        "# Use variables in operations. \n",
        "# What happens when you add (+) 2 strings?\n",
        "\n",
        "x = 10\n",
        "print ((x+11) + (x/2))\n"
      ],
      "execution_count": 0,
      "outputs": []
    },
    {
      "metadata": {
        "id": "hpuX51nz_hgz",
        "colab_type": "text"
      },
      "cell_type": "markdown",
      "source": [
        "### Conditionals\n",
        "\n",
        "#### `if/else`\n",
        "\n",
        "We want to be able to use code to reason about things. That means we have to be able to make choices based on the situation. For that, we have **conditionals**.  Conditionals use **boolean expressions** to make their decisions. Put simply, they check whether something is `True` or `False`. Check it out:"
      ]
    },
    {
      "metadata": {
        "id": "ccquwBUxAUg-",
        "colab_type": "code",
        "colab": {}
      },
      "cell_type": "code",
      "source": [
        "x = 10 # Change this after the first run to see what happens!\n",
        "\n",
        "if x == 10: \n",
        "  print(\"That's 10\")\n",
        "else:\n",
        "  print(\"I don't know what that is, but it's no 10.\")"
      ],
      "execution_count": 0,
      "outputs": []
    },
    {
      "metadata": {
        "id": "s-QKpvzXAtXG",
        "colab_type": "text"
      },
      "cell_type": "markdown",
      "source": [
        "That `x == 10` part after `if`? That's our **boolean expression**. The `==` operator checks to make sure both sides are equal. If they are, the expression is `True`. Otherwise, the expression is `False`. Code under the `if` section runs when the expression is `True`, and under the `else` section when it's `False`.\n",
        "\n",
        "We can compare strings as well as numbers."
      ]
    },
    {
      "metadata": {
        "id": "_zeblgByBGHA",
        "colab_type": "code",
        "colab": {}
      },
      "cell_type": "code",
      "source": [
        "# A little fun with if/else and input()\n",
        "\n",
        "password = \"Jigglypuff\"\n",
        "\n",
        "test_pw = input(\"Enter the password: \")\n",
        "\n",
        "if test_pw == password:\n",
        "  print(\"ACCESS GRANTED\")\n",
        "else:\n",
        "  print(\"ACCESS DENIED\")"
      ],
      "execution_count": 0,
      "outputs": []
    },
    {
      "metadata": {
        "id": "aKUKxOdqCSwH",
        "colab_type": "text"
      },
      "cell_type": "markdown",
      "source": [
        "We can also use inequalities (`<`, `>`, `<=`, `>=`) in our comparisons. \n",
        "\n",
        "#### `elif`\n",
        "\n",
        "Sometimes, we have more than 2 conditions to check. Think about guessing a number between 1 and 10. Your guess has three possible outcomes:\n",
        "\n",
        "1. Too high\n",
        "2. Too low\n",
        "3. Right on\n",
        "\n",
        "We'd have to write code that covers all the bases."
      ]
    },
    {
      "metadata": {
        "id": "bPxqMXddDEop",
        "colab_type": "code",
        "colab": {}
      },
      "cell_type": "code",
      "source": [
        "real_num = 7 # Feel free to change this up\n",
        "guess = int(input(\"What's the guess? \")) # The int() wrapper converts the text input into a number we can compare\n",
        "\n",
        "if guess < real_num:\n",
        "  print(\"Too low!\")\n",
        "elif guess > real_num:\n",
        "  print(\"Too high!\")\n",
        "else:\n",
        "  print(\"You got it!\")"
      ],
      "execution_count": 0,
      "outputs": []
    },
    {
      "metadata": {
        "id": "hraYCfg3Hmhv",
        "colab_type": "text"
      },
      "cell_type": "markdown",
      "source": [
        "By the way..."
      ]
    },
    {
      "metadata": {
        "id": "o7jO2yikIJcT",
        "colab_type": "code",
        "colab": {},
        "cellView": "both"
      },
      "cell_type": "code",
      "source": [
        "#@title How are you doing with this so far?\n",
        "\n",
        "comfort_level = 8 #@param {type:\"slider\", min:0, max:10, step:1}\n",
        "\n",
        "if comfort_level == 10:\n",
        "  print(\"Nice! Keep going, but maybe also ask who needs help!\")\n",
        "elif comfort_level > 7:\n",
        "  print(\"Way to go!\")\n",
        "elif comfort_level > 5:\n",
        "  print(\"Keep going; you're doing great!\")\n",
        "elif comfort_level > 3:\n",
        "  print(\"Slow down! Take your time and ask for help if you need it.\")\n",
        "else:\n",
        "  print(\"Ask for help!\")"
      ],
      "execution_count": 0,
      "outputs": []
    },
    {
      "metadata": {
        "id": "IYlwbg59x2dy",
        "colab_type": "text"
      },
      "cell_type": "markdown",
      "source": [
        "### Lists\n",
        "\n",
        "Since we're working with data, we need to talk about how Python handles series of values. The most basic series, or **iterable** data type, is the **list**. You've seen them before, but here's a quick refresher:"
      ]
    },
    {
      "metadata": {
        "id": "ZwS6Q3215S5p",
        "colab_type": "code",
        "colab": {}
      },
      "cell_type": "code",
      "source": [
        "# RUN THIS CODE BEFORE MOVING ON!\n",
        "fruit = [\"apple\",\"banana\",\"plum\",\"orange\",\"kumquat\"]\n",
        "beatles = [\"John\",\"Paul\",\"George\",\"Ringo\"]\n",
        "primes = [3, 7, 11, 13, 17]\n",
        "print(fruit)\n",
        "print(beatles)\n",
        "print(primes)"
      ],
      "execution_count": 0,
      "outputs": []
    },
    {
      "metadata": {
        "id": "0MD2caDW5TMC",
        "colab_type": "text"
      },
      "cell_type": "markdown",
      "source": [
        "So in each list, we use the `=` to assign a value to the variable name. Then we use `[]` to contain the list, separating **elements** of the list with commas.\n",
        "\n",
        "What can we do with lists once we make them?\n",
        "\n",
        "#### Adding to lists"
      ]
    },
    {
      "metadata": {
        "id": "dOqHpq6y5pHY",
        "colab_type": "code",
        "colab": {}
      },
      "cell_type": "code",
      "source": [
        "# Check this out...\n",
        "\n",
        "fruit.append(\"strawberry\")\n",
        "print(fruit)"
      ],
      "execution_count": 0,
      "outputs": []
    },
    {
      "metadata": {
        "id": "ZWXzlQQd5uTF",
        "colab_type": "text"
      },
      "cell_type": "markdown",
      "source": [
        "The `append()` method of a list allows us to add things to the end of it.\n",
        "\n",
        "Use the code cell below to create your own list. Start it with some values, then use `append()` to add something else to it!"
      ]
    },
    {
      "metadata": {
        "id": "ZMYB6F3IaTn0",
        "colab_type": "code",
        "colab": {}
      },
      "cell_type": "code",
      "source": [
        "# Create your own list\n",
        "\n",
        "# Use print() to print out the entire list\n",
        "\n",
        "# Use append() to add something else to the list!\n",
        "\n",
        "# Print the list again\n",
        "\n",
        "stars= [\"Vega\", \"Rigel\", \"Antares\", \"Achernar\"]\n",
        "stars.append(\"Procyon\")\n",
        "print (stars)"
      ],
      "execution_count": 0,
      "outputs": []
    },
    {
      "metadata": {
        "id": "b3Im-Q_tagF1",
        "colab_type": "text"
      },
      "cell_type": "markdown",
      "source": [
        "#### Accessing Elements\n",
        "\n",
        "Sometimes we only want a specific member of a list. To do that, we have to request the item by **index**. An item's index is its position in the list, starting at 0.\n",
        "\n",
        "Taking our `primes` list as an example, here's a table of elements/indices:\n",
        "\n",
        "**index** | **element**\n",
        "--|--\n",
        "0 | 3\n",
        "1 | 7\n",
        "2 | 11\n",
        "3 | 13\n",
        "4 | 17\n",
        "\n",
        "We use `[]` with the name of the list, and the index number inside the brackets to access a specific element."
      ]
    },
    {
      "metadata": {
        "id": "4G-z3HyV53ka",
        "colab_type": "code",
        "colab": {}
      },
      "cell_type": "code",
      "source": [
        "print(primes[2])\n",
        "print(beatles[3])\n",
        "print(fruit[-1])"
      ],
      "execution_count": 0,
      "outputs": []
    },
    {
      "metadata": {
        "id": "DL1rY2fV6D9T",
        "colab_type": "text"
      },
      "cell_type": "markdown",
      "source": [
        "Did you notice that `-1` we used at the end? You can walk backwards through indices."
      ]
    },
    {
      "metadata": {
        "id": "gcc7I7v3aijU",
        "colab_type": "code",
        "colab": {}
      },
      "cell_type": "code",
      "source": [
        "# Use indices to access specific items in your list\n",
        "# Use print() to show each element you're accessing\n",
        "print (stars[-4])\n"
      ],
      "execution_count": 0,
      "outputs": []
    },
    {
      "metadata": {
        "id": "taa-GrOHa3xI",
        "colab_type": "text"
      },
      "cell_type": "markdown",
      "source": [
        "#### Removing from lists\n",
        "\n",
        "Sometimes we want to get items out of the list. There are two ways to do that: `pop()` and `remove()`"
      ]
    },
    {
      "metadata": {
        "id": "zN49rqs94_Si",
        "colab_type": "code",
        "colab": {}
      },
      "cell_type": "code",
      "source": [
        "# What happens when we use pop()?\n",
        "last_beatle = beatles.pop()\n",
        "print(beatles)\n",
        "print(last_beatle)"
      ],
      "execution_count": 0,
      "outputs": []
    },
    {
      "metadata": {
        "id": "e3_xIGBA49O2",
        "colab_type": "text"
      },
      "cell_type": "markdown",
      "source": [
        "\n",
        "\n",
        "See that? `pop()` not only removes the last element of the list, it **returns** that value so we can assign the result of `pop()` to a variable.\n",
        "\n",
        "`pop()` also works with an index.\n"
      ]
    },
    {
      "metadata": {
        "id": "QP-wTyfi6PT9",
        "colab_type": "code",
        "colab": {}
      },
      "cell_type": "code",
      "source": [
        "# Behold, the power of pop()!\n",
        "\n",
        "second_fruit = fruit.pop(1)\n",
        "print(fruit)\n",
        "print(second_fruit)"
      ],
      "execution_count": 0,
      "outputs": []
    },
    {
      "metadata": {
        "id": "jy0Dd4WH6PxN",
        "colab_type": "text"
      },
      "cell_type": "markdown",
      "source": [
        "But what if we don't know the index of the item? We can also remove by value. `remove()` takes an **argument**, just like `pop()` could. Arguments are values that go inside a function's parentheses for the function to use when it runs. `remove()` will look at a list and remove the _first_ instance of the value it finds."
      ]
    },
    {
      "metadata": {
        "id": "zM7fAT8V4P39",
        "colab_type": "code",
        "colab": {}
      },
      "cell_type": "code",
      "source": [
        "# What happens when we use remove()?\n",
        "dc_heroes = [\"Batman\",\"Superman\",\"Wonder Woman\",\"Batman\",\"The Flash\"]\n",
        "print(dc_heroes)\n",
        "dc_heroes.remove(\"Batman\")\n",
        "print(dc_heroes)"
      ],
      "execution_count": 0,
      "outputs": []
    },
    {
      "metadata": {
        "id": "DK5RaqumdZmU",
        "colab_type": "code",
        "colab": {}
      },
      "cell_type": "code",
      "source": [
        "# Using the list you made, use remove() and pop() to change the list\n",
        "\n",
        "# print() the result of each operation\n",
        "\n"
      ],
      "execution_count": 0,
      "outputs": []
    },
    {
      "metadata": {
        "id": "dI11Ba9idvyx",
        "colab_type": "text"
      },
      "cell_type": "markdown",
      "source": [
        "### Loops\n",
        "\n",
        "Since we're going to be working with a lot of lists, you might imagine that we'll have to do the same things _over and over again_ for each element in the list. Although we will not be writing a lot of loops manually, it's important that you see how they work.\n",
        "\n",
        "#### `for` loops\n",
        "\n",
        "We write `for` loops when we have a pre-existing set of things we want to do work on. In our case, that's pretty much always going to be true. Here's what a simple `for` loop:"
      ]
    },
    {
      "metadata": {
        "id": "CX9QKd2V32Yw",
        "colab_type": "code",
        "colab": {}
      },
      "cell_type": "code",
      "source": [
        "# Run this code to see how for loops work!\n",
        "na_countries = [\"Canada\",\"United States\",\"Mexico\"]\n",
        "\n",
        "for c in na_countries:\n",
        "  print(c)"
      ],
      "execution_count": 0,
      "outputs": []
    },
    {
      "metadata": {
        "id": "b3PzwdRO7guV",
        "colab_type": "text"
      },
      "cell_type": "markdown",
      "source": [
        "What's happening here? We use the `for` keyword to start the loop. Then we invent a temporary variable, called the **iterator**, to hold the value of the current item we're working on in the list. I like to think of it as the computer counting on its fingers. Then we use the keyword `in` and the list to tell Python what we're looping over. Then a colon, and an indented next line. Python uses indentations to keep track of sections of code. They matter. A lot."
      ]
    },
    {
      "metadata": {
        "id": "xkRW3Dqx-iRl",
        "colab_type": "code",
        "colab": {}
      },
      "cell_type": "code",
      "source": [
        "# Make a new list of integers\n",
        "\n",
        "# Write a loop that prints each integer plus 5.\n"
      ],
      "execution_count": 0,
      "outputs": []
    },
    {
      "metadata": {
        "id": "1_ngBQrdMCA_",
        "colab_type": "text"
      },
      "cell_type": "markdown",
      "source": [
        "## You made it! Congratulations!\n",
        "\n",
        "This is the end of the Python Intro for Project: Impact. Please leave a rating for this assignment. \n",
        "\n",
        "If you'd like to go further, there's a challenge below..."
      ]
    },
    {
      "metadata": {
        "id": "nVmDuYCKSXqM",
        "colab_type": "code",
        "colab": {},
        "cellView": "form"
      },
      "cell_type": "code",
      "source": [
        "#@title Lesson Rating\n",
        "\n",
        "lesson_rating = 2 #@param {type:\"slider\", min:0, max:10, step:1}\n"
      ],
      "execution_count": 0,
      "outputs": []
    },
    {
      "metadata": {
        "id": "5cQxTb8PHp0k",
        "colab_type": "code",
        "colab": {}
      },
      "cell_type": "code",
      "source": [
        ""
      ],
      "execution_count": 0,
      "outputs": []
    },
    {
      "metadata": {
        "id": "ykuT06dJHpXN",
        "colab_type": "text"
      },
      "cell_type": "markdown",
      "source": [
        ""
      ]
    },
    {
      "metadata": {
        "id": "OwAVgFXRMMkL",
        "colab_type": "text"
      },
      "cell_type": "markdown",
      "source": [
        "## Challenge: Number Guesser Game\n",
        "\n",
        "The number guesser we had above wasn't particularly entertaining. With the tools we have now, we can do a little better. Here's how we want our game to work:\n",
        "\n",
        "1. Generate random integer between 1 and 20\n",
        "2. Player has 4 guesses to guess the number.\n",
        "3. Store each guess in a list\n",
        "4. If the player guesses, end the game.\n",
        "5. If the player uses all 4 guesses, reveal the number and end the game.\n",
        "6. At the end of the game, print each guess.\n",
        "\n",
        "I'm gonna help with the first part."
      ]
    },
    {
      "metadata": {
        "id": "-BFvQIirM3S4",
        "colab_type": "code",
        "colab": {}
      },
      "cell_type": "code",
      "source": [
        "# Run this to generate the random number\n",
        "import random\n",
        "number = random.randint(1,20)\n"
      ],
      "execution_count": 0,
      "outputs": []
    },
    {
      "metadata": {
        "id": "LOMElZaiNJo6",
        "colab_type": "text"
      },
      "cell_type": "markdown",
      "source": [
        "### Guesses\n",
        "\n",
        "Let's store the the number of guesses in a variable called `max_guesses`"
      ]
    },
    {
      "metadata": {
        "id": "xA9euxBJNaIF",
        "colab_type": "code",
        "colab": {}
      },
      "cell_type": "code",
      "source": [
        "# Create max_guesses and set it equal to 4\n",
        "\n",
        "max_guesses = 4"
      ],
      "execution_count": 0,
      "outputs": []
    },
    {
      "metadata": {
        "id": "BIsIMptGNhcw",
        "colab_type": "text"
      },
      "cell_type": "markdown",
      "source": [
        "Let's also create an empty list called `guesses` to hold the player's history of guesses."
      ]
    },
    {
      "metadata": {
        "id": "zveAl9SSNdF4",
        "colab_type": "code",
        "colab": {}
      },
      "cell_type": "code",
      "source": [
        "# Create an empty list called guesses\n",
        "guesses = []"
      ],
      "execution_count": 0,
      "outputs": []
    },
    {
      "metadata": {
        "id": "vbR3UtwmNrZq",
        "colab_type": "text"
      },
      "cell_type": "markdown",
      "source": [
        "### Get player's guess\n",
        "\n",
        "We'll try this as a one-off. We'll use that `input()` function to get the player's guess one time."
      ]
    },
    {
      "metadata": {
        "id": "TVRCLFg9OID8",
        "colab_type": "code",
        "colab": {
          "base_uri": "https://localhost:8080/",
          "height": 34
        },
        "outputId": "636922cd-9ae3-4ebf-f46b-9b30736268f6"
      },
      "cell_type": "code",
      "source": [
        "# Use input() to store the player's guess in a variable called...guess\n",
        "\n",
        "guess = input(\"what is your guess? \")"
      ],
      "execution_count": 18,
      "outputs": [
        {
          "output_type": "stream",
          "text": [
            "what is your guess? 18\n"
          ],
          "name": "stdout"
        }
      ]
    },
    {
      "metadata": {
        "id": "hBmR-LNUORPS",
        "colab_type": "code",
        "colab": {}
      },
      "cell_type": "code",
      "source": [
        "# Convert the guess to an integer (everything from input() is a string)\n",
        "\n",
        "guess = int(guess)"
      ],
      "execution_count": 0,
      "outputs": []
    },
    {
      "metadata": {
        "id": "UUNKU2YNOcWp",
        "colab_type": "text"
      },
      "cell_type": "markdown",
      "source": [
        "### Compare `guess` to `number`\n",
        "\n",
        "Here we need a conditional that checks to see if the number is too high, too low, or right on. Use the code above to guide you.\n",
        "\n",
        "But also, we need to `append()` `guess` to our list of `guesses` inside each part of the conditional."
      ]
    },
    {
      "metadata": {
        "id": "HcOllIYSOnye",
        "colab_type": "code",
        "colab": {
          "base_uri": "https://localhost:8080/",
          "height": 34
        },
        "outputId": "188de4a8-dc54-402f-83c3-0fa9f38919e8"
      },
      "cell_type": "code",
      "source": [
        "# Create an if/elif/else conditional statement that compares guess to number\n",
        "# Give different feedback for each!\n",
        "\n",
        "\n",
        "# Don't forget to append guess to guesses!\n",
        "if guess > number:\n",
        "  print(\"too high\")\n",
        "elif guess < number:\n",
        "  print(\"too low\")\n",
        "else:\n",
        "  print(\"yay\")"
      ],
      "execution_count": 21,
      "outputs": [
        {
          "output_type": "stream",
          "text": [
            "too high\n"
          ],
          "name": "stdout"
        }
      ]
    },
    {
      "metadata": {
        "id": "vZsXtcQ0QpUJ",
        "colab_type": "text"
      },
      "cell_type": "markdown",
      "source": [
        "### Print all guesses\n",
        "\n",
        "We want the game to print all the player's guesses, one per line. Use a `for` loop on the `guesses` list."
      ]
    },
    {
      "metadata": {
        "id": "4qj0lfa3QvwS",
        "colab_type": "code",
        "colab": {}
      },
      "cell_type": "code",
      "source": [
        "# Create a for loop that prints each guess in guesses\n"
      ],
      "execution_count": 0,
      "outputs": []
    },
    {
      "metadata": {
        "id": "E-IsgQYiPc-1",
        "colab_type": "text"
      },
      "cell_type": "markdown",
      "source": [
        "### Putting it all together\n",
        "\n",
        "Let's put all this code in one cell, with a little bit of wrapper to help the gameplay:"
      ]
    },
    {
      "metadata": {
        "id": "xHeVmgMAPjQ3",
        "colab_type": "code",
        "colab": {}
      },
      "cell_type": "code",
      "source": [
        "import random\n",
        "\n",
        "# Generate random number\n",
        "number = random.randint(1,20)\n",
        "\n",
        "# Create max_guesses and set it equal to 4\n",
        "\n",
        "# Create an empty list called guesses\n",
        "\n",
        "\n",
        "\"\"\"\n",
        "WHILE LOOP WRAPPER\n",
        "\n",
        "This allows the game to run all 4 turns without stopping.\n",
        "\n",
        "While loops are not used much in data science, but all the time\n",
        "in games.\n",
        "\"\"\"\n",
        "\n",
        "while len(guesses) < max_guesses:\n",
        "  # Use input() to store the player's guess in a variable called...guess\n",
        "  \n",
        "  \n",
        "  # Convert the guess to an integer (everything from input() is a string)\n",
        "  guess = int(guess)\n",
        "  \n",
        "  #Create an if/elif/else conditional statement that compares guess to number\n",
        "  # Give different feedback for each!\n",
        "  \n",
        "\n",
        "  \n",
        "  # Don't forget to append guess to guesses!\n",
        "\n",
        "  \n",
        "  # End the game early on correct guess\n",
        "  if guess == number:\n",
        "    break\n",
        "\n",
        "print(\"You guessed:\")\n",
        "\n",
        "# Use a for loop to print all guesses\n"
      ],
      "execution_count": 0,
      "outputs": []
    }
  ]
}